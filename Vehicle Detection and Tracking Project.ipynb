{
 "cells": [
  {
   "cell_type": "markdown",
   "metadata": {},
   "source": [
    "# Vehicle Detection and Tracking Project"
   ]
  },
  {
   "cell_type": "markdown",
   "metadata": {},
   "source": [
    "### Import needed data"
   ]
  },
  {
   "cell_type": "code",
   "execution_count": 1,
   "metadata": {
    "collapsed": true
   },
   "outputs": [],
   "source": [
    "import os\n",
    "import cv2\n",
    "import math\n",
    "import pickle\n",
    "import numpy as np\n",
    "from random import randint\n",
    "from skimage.feature import hog\n",
    "import matplotlib.pyplot as plt\n",
    "import matplotlib.image as mpimg\n",
    "from sklearn.svm import LinearSVC, SVC\n",
    "from sklearn import preprocessing\n",
    "from sklearn.externals import joblib\n",
    "from sklearn.preprocessing import StandardScaler\n",
    "from sklearn.model_selection import train_test_split"
   ]
  },
  {
   "cell_type": "markdown",
   "metadata": {},
   "source": [
    "### Define data set image paths for both positive and negative domains"
   ]
  },
  {
   "cell_type": "code",
   "execution_count": 2,
   "metadata": {
    "collapsed": true
   },
   "outputs": [],
   "source": [
    "Veh_Imgs_Path = \"./../udacity_dataset/vehicles/vehicles/\"\n",
    "NonVeh_Imgs_Path = \"./../udacity_dataset/non_vehicles/non_vehicles/\"\n",
    "\n",
    "Veh_Imgs = os.listdir(Veh_Imgs_Path)\n",
    "NonVeh_Imgs = os.listdir(NonVeh_Imgs_Path)"
   ]
  },
  {
   "cell_type": "markdown",
   "metadata": {},
   "source": [
    "### Collect Data set images"
   ]
  },
  {
   "cell_type": "code",
   "execution_count": 3,
   "metadata": {
    "collapsed": true
   },
   "outputs": [],
   "source": [
    "def CollectImages(folderpath, ImagePaths, isLabeled = True):\n",
    "    images = []\n",
    "    for ImagePath in ImagePaths:\n",
    "        if (len(ImagePath.split('.')) == 2):\n",
    "            im = cv2.imread(folderpath + ImagePath)\n",
    "            im = cv2.cvtColor(im, cv2.COLOR_BGR2RGB)\n",
    "            #print('Image ' , ImagePath , ' is: ', type(im), ' with dimensions: ', im.shape)\n",
    "            if isLabeled == True:\n",
    "                images.append((im, ImagePath.split('.')[0]))\n",
    "            else:\n",
    "                images.append(im)\n",
    "        else:\n",
    "            print('Image', ImagePath, 'is correupted --> Discarded.')\n",
    "\n",
    "    return images"
   ]
  },
  {
   "cell_type": "code",
   "execution_count": 4,
   "metadata": {},
   "outputs": [
    {
     "name": "stdout",
     "output_type": "stream",
     "text": [
      "Car Image Set has  8792\n",
      "Non Car Image Set has  8968\n"
     ]
    }
   ],
   "source": [
    "CarImageSet = []\n",
    "NonCarImageSet = []\n",
    "\n",
    "for folder in Veh_Imgs:\n",
    "    folderpath = Veh_Imgs_Path + folder\n",
    "    Carsimagespath = os.listdir(folderpath)\n",
    "    CarImageSet.append(CollectImages(folderpath + '/', Carsimagespath, True))\n",
    "\n",
    "for folder in NonVeh_Imgs:\n",
    "    folderpath = NonVeh_Imgs_Path + folder\n",
    "    NonCarsimagespath = os.listdir(folderpath)\n",
    "    NonCarImageSet.append(CollectImages(folderpath + '/', NonCarsimagespath, True))\n",
    "\n",
    "CarImageSet = np.concatenate(CarImageSet)\n",
    "NonCarImageSet = np.concatenate(NonCarImageSet)\n",
    "\n",
    "print('Car Image Set has ', str(len(CarImageSet)))\n",
    "print('Non Car Image Set has ', str(len(NonCarImageSet)))"
   ]
  },
  {
   "cell_type": "markdown",
   "metadata": {},
   "source": [
    "### Define to access both image pixel values and labels"
   ]
  },
  {
   "cell_type": "code",
   "execution_count": 5,
   "metadata": {
    "collapsed": true
   },
   "outputs": [],
   "source": [
    "imgPxlVal = 0\n",
    "img_Label = 1"
   ]
  },
  {
   "cell_type": "markdown",
   "metadata": {},
   "source": [
    "## Visualize DataSet"
   ]
  },
  {
   "cell_type": "code",
   "execution_count": 13,
   "metadata": {
    "collapsed": true
   },
   "outputs": [],
   "source": [
    "def pltImages(images, labels, nrows = 1, ncols = 2, fig_w = 20, fig_h = 10, isgray = False):\n",
    "    #below code is inspired from https://stackoverflow.com/questions/17111525/how-to-show-multiple-images-in-one-figure\n",
    "    assert len(images) == len(labels)\n",
    "    assert len(images) <= (nrows * ncols)\n",
    "    \n",
    "    fig = plt.figure(figsize=(fig_w, fig_h))\n",
    "    \n",
    "    for index in range(len(images)):\n",
    "        plot = fig.add_subplot(nrows,ncols,index+1)\n",
    "        plot.set_title(labels[index])\n",
    "        if(isgray == False):\n",
    "            plt.imshow(images[index].squeeze())\n",
    "        else:\n",
    "            plt.imshow(images[index].squeeze(), cmap='gray')\n",
    "    \n",
    "    plt.tight_layout()\n",
    "    plt.show()"
   ]
  },
  {
   "cell_type": "code",
   "execution_count": null,
   "metadata": {
    "collapsed": true
   },
   "outputs": [],
   "source": [
    "vis_imgs = []\n",
    "vis_labels = []\n",
    "\n",
    "#show 12 random images from Car dataset\n",
    "for i in range(12):\n",
    "    index = randint(0, len(CarImageSet))\n",
    "    vis_imgs.append(CarImageSet[index][imgPxlVal])\n",
    "    vis_labels.append('Car')\n",
    "\n",
    "#show 12 random images from Not Car dataset\n",
    "for i in range(12):\n",
    "    index = randint(0, len(NonCarImageSet))\n",
    "    vis_imgs.append(NonCarImageSet[index][imgPxlVal])\n",
    "    vis_labels.append('Not Car')\n",
    "\n",
    "pltImages(vis_imgs, vis_labels, 2, 12, 16, 4)"
   ]
  },
  {
   "cell_type": "markdown",
   "metadata": {},
   "source": [
    "### Visualize color space features using histograms"
   ]
  },
  {
   "cell_type": "code",
   "execution_count": null,
   "metadata": {
    "collapsed": true
   },
   "outputs": [],
   "source": [
    "def pltHistograms(hists, labels, nrows = 1, ncols = 2, fig_w = 20, fig_h = 10, xlim = [0,256]):\n",
    "    assert len(hists) == len(labels)\n",
    "    assert len(hists) <= (nrows * ncols)\n",
    "    \n",
    "    fig = plt.figure(figsize=(fig_w, fig_h))\n",
    "    \n",
    "    for index in range(len(hists)):\n",
    "        plot = fig.add_subplot(nrows,ncols,index+1)\n",
    "        plot.set_title(labels[index])\n",
    "        plt.plot(hists[index])\n",
    "        plt.xlim(xlim)\n",
    "    \n",
    "    plt.tight_layout()\n",
    "    plt.show()"
   ]
  },
  {
   "cell_type": "code",
   "execution_count": null,
   "metadata": {
    "collapsed": true
   },
   "outputs": [],
   "source": [
    "Channel_0 = 0\n",
    "Channel_1 = 1\n",
    "Channel_2 = 2\n",
    "\n",
    "histSize = [48]\n",
    "histrange = [0,255]\n",
    "\n",
    "ColorSpace = ['RGB','HSV','HLS', 'LAB', 'YUV', 'LUV', 'YCrCb']"
   ]
  },
  {
   "cell_type": "code",
   "execution_count": null,
   "metadata": {
    "collapsed": true
   },
   "outputs": [],
   "source": [
    "def ExploreColorSpaceHistogram(img):\n",
    "    hist = []\n",
    "    hist_label = []\n",
    "\n",
    "    hist_0 = cv2.calcHist(img,[Channel_0],None,histSize,histrange)\n",
    "    hist_1 = cv2.calcHist(img,[Channel_1],None,histSize,histrange)\n",
    "    hist_2 = cv2.calcHist(img,[Channel_2],None,histSize,histrange)\n",
    "    hist.append(hist_0)\n",
    "    hist_label.append(\"RGB_Channel 0\")\n",
    "    hist.append(hist_1)\n",
    "    hist_label.append(\"RGB_Channel 1\")\n",
    "    hist.append(hist_2)\n",
    "    hist_label.append(\"RGB_Channel 2\")\n",
    "\n",
    "    HSV = cv2.cvtColor(img, cv2.COLOR_RGB2HSV)\n",
    "\n",
    "    hist_0 = cv2.calcHist(HSV,[Channel_0],None,histSize,histrange)\n",
    "    hist_1 = cv2.calcHist(HSV,[Channel_1],None,histSize,histrange)\n",
    "    hist_2 = cv2.calcHist(HSV,[Channel_2],None,histSize,histrange)\n",
    "    hist.append(hist_0)\n",
    "    hist_label.append(\"HSV_Channel 0\")\n",
    "    hist.append(hist_1)\n",
    "    hist_label.append(\"HSV_Channel 1\")\n",
    "    hist.append(hist_2)\n",
    "    hist_label.append(\"HSV_Channel 2\")\n",
    "\n",
    "    HLS = cv2.cvtColor(img, cv2.COLOR_RGB2HLS)\n",
    "\n",
    "    hist_0 = cv2.calcHist(HLS,[Channel_0],None,histSize,histrange)\n",
    "    hist_1 = cv2.calcHist(HLS,[Channel_1],None,histSize,histrange)\n",
    "    hist_2 = cv2.calcHist(HLS,[Channel_2],None,histSize,histrange)\n",
    "    hist.append(hist_0)\n",
    "    hist_label.append(\"HLS_Channel 0\")\n",
    "    hist.append(hist_1)\n",
    "    hist_label.append(\"HLS_Channel 1\")\n",
    "    hist.append(hist_2)\n",
    "    hist_label.append(\"HLS_Channel 2\")\n",
    "\n",
    "    LAB = cv2.cvtColor(img, cv2.COLOR_RGB2LAB)\n",
    "\n",
    "    hist_0 = cv2.calcHist(LAB,[Channel_0],None,histSize,histrange)\n",
    "    hist_1 = cv2.calcHist(LAB,[Channel_1],None,histSize,histrange)\n",
    "    hist_2 = cv2.calcHist(LAB,[Channel_2],None,histSize,histrange)\n",
    "    hist.append(hist_0)\n",
    "    hist_label.append(\"LAB_Channel 0\")\n",
    "    hist.append(hist_1)\n",
    "    hist_label.append(\"LAB_Channel 1\")\n",
    "    hist.append(hist_2)\n",
    "    hist_label.append(\"LAB_Channel 2\")\n",
    "\n",
    "    YUV = cv2.cvtColor(img, cv2.COLOR_RGB2YUV)\n",
    "\n",
    "    hist_0 = cv2.calcHist(YUV,[Channel_0],None,histSize,histrange)\n",
    "    hist_1 = cv2.calcHist(YUV,[Channel_1],None,histSize,histrange)\n",
    "    hist_2 = cv2.calcHist(YUV,[Channel_2],None,histSize,histrange)\n",
    "    hist.append(hist_0)\n",
    "    hist_label.append(\"YUV_Channel 0\")\n",
    "    hist.append(hist_1)\n",
    "    hist_label.append(\"YUV_Channel 1\")\n",
    "    hist.append(hist_2)\n",
    "    hist_label.append(\"YUV_Channel 2\")\n",
    "\n",
    "    LUV = cv2.cvtColor(img, cv2.COLOR_RGB2LUV)\n",
    "\n",
    "    hist_0 = cv2.calcHist(LUV,[Channel_0],None,histSize,histrange)\n",
    "    hist_1 = cv2.calcHist(LUV,[Channel_1],None,histSize,histrange)\n",
    "    hist_2 = cv2.calcHist(LUV,[Channel_2],None,histSize,histrange)\n",
    "    hist.append(hist_0)\n",
    "    hist_label.append(\"LUV_Channel 0\")\n",
    "    hist.append(hist_1)\n",
    "    hist_label.append(\"LUV_Channel 1\")\n",
    "    hist.append(hist_2)\n",
    "    hist_label.append(\"LUV_Channel 2\")\n",
    "    \n",
    "    YCrCb = cv2.cvtColor(img, cv2.COLOR_RGB2YCrCb)\n",
    "\n",
    "    hist_0 = cv2.calcHist(YCrCb,[Channel_0],None,histSize,histrange)\n",
    "    hist_1 = cv2.calcHist(YCrCb,[Channel_1],None,histSize,histrange)\n",
    "    hist_2 = cv2.calcHist(YCrCb,[Channel_2],None,histSize,histrange)\n",
    "    hist.append(hist_0)\n",
    "    hist_label.append(\"YCrCb_Channel 0\")\n",
    "    hist.append(hist_1)\n",
    "    hist_label.append(\"YCrCb_Channel 1\")\n",
    "    hist.append(hist_2)\n",
    "    hist_label.append(\"YCrCb_Channel 2\")\n",
    "\n",
    "    pltHistograms(hist, hist_label, 7, 3, xlim = [0, histSize[0]-1])"
   ]
  },
  {
   "cell_type": "code",
   "execution_count": null,
   "metadata": {
    "collapsed": true,
    "scrolled": false
   },
   "outputs": [],
   "source": [
    "#CarImageIndex = 0\n",
    "CarImageIndex = randint(0, len(CarImageSet))\n",
    "CarImage = [CarImageSet[CarImageIndex][imgPxlVal]]\n",
    "CarImageLabel = [CarImageSet[CarImageIndex][img_Label]]\n",
    "\n",
    "pltImages(CarImage, CarImageLabel, 1, 1)\n",
    "ExploreColorSpaceHistogram(CarImage[0])\n",
    "\n",
    "#NonCarImageIndex = 0\n",
    "NonCarImageIndex = randint(0, len(NonCarImageSet))\n",
    "NonCarImage = [NonCarImageSet[NonCarImageIndex][imgPxlVal]]\n",
    "NonCarImageLabel = [NonCarImageSet[NonCarImageIndex][img_Label]]\n",
    "\n",
    "pltImages(NonCarImage, NonCarImageLabel, 1, 1)\n",
    "ExploreColorSpaceHistogram(NonCarImage[0])"
   ]
  },
  {
   "cell_type": "markdown",
   "metadata": {},
   "source": [
    "Spatial Binning"
   ]
  },
  {
   "cell_type": "code",
   "execution_count": 6,
   "metadata": {
    "collapsed": true
   },
   "outputs": [],
   "source": [
    "#Code obtained from Udacity lesson 16\n",
    "def bin_spatial_Demo_colorspace(img, color_space='RGB', size=(32, 32)):\n",
    "    # Convert image to new color space (if specified)\n",
    "    if color_space != 'RGB':\n",
    "        if color_space == 'HSV':\n",
    "            feature_image = cv2.cvtColor(img, cv2.COLOR_RGB2HSV)\n",
    "        elif color_space == 'LUV':\n",
    "            feature_image = cv2.cvtColor(img, cv2.COLOR_RGB2LUV)\n",
    "        elif color_space == 'LAB':\n",
    "            feature_image = cv2.cvtColor(img, cv2.COLOR_RGB2LAB)\n",
    "        elif color_space == 'HLS':\n",
    "            feature_image = cv2.cvtColor(img, cv2.COLOR_RGB2HLS)\n",
    "        elif color_space == 'YUV':\n",
    "            feature_image = cv2.cvtColor(img, cv2.COLOR_RGB2YUV)\n",
    "        elif color_space == 'YCrCb':\n",
    "            feature_image = cv2.cvtColor(img, cv2.COLOR_RGB2YCrCb)\n",
    "    else: feature_image = np.copy(img)             \n",
    "    # Use cv2.resize().ravel() to create the feature vector\n",
    "    features = cv2.resize(feature_image, size).ravel() \n",
    "    # Return the feature vector\n",
    "    return features"
   ]
  },
  {
   "cell_type": "code",
   "execution_count": null,
   "metadata": {
    "collapsed": true
   },
   "outputs": [],
   "source": [
    "size=(8, 8)"
   ]
  },
  {
   "cell_type": "code",
   "execution_count": null,
   "metadata": {
    "collapsed": true
   },
   "outputs": [],
   "source": [
    "vis_imgs = []\n",
    "vis_labels = []\n",
    "\n",
    "index = randint(0, len(CarImageSet))\n",
    "\n",
    "vis_imgs.append(bin_spatial_Demo_colorspace(CarImageSet[index][imgPxlVal], size=size))\n",
    "vis_labels.append('RGB')\n",
    "vis_imgs.append(bin_spatial_Demo_colorspace(CarImageSet[index][imgPxlVal], color_space='HSV', size=size))\n",
    "vis_labels.append('HSV')\n",
    "vis_imgs.append(bin_spatial_Demo_colorspace(CarImageSet[index][imgPxlVal], color_space='LUV', size=size))\n",
    "vis_labels.append('LUV')\n",
    "vis_imgs.append(bin_spatial_Demo_colorspace(CarImageSet[index][imgPxlVal], color_space='HLS', size=size))\n",
    "vis_labels.append('HLS')\n",
    "vis_imgs.append(bin_spatial_Demo_colorspace(CarImageSet[index][imgPxlVal], color_space='YUV', size=size))\n",
    "vis_labels.append('YUV')\n",
    "vis_imgs.append(bin_spatial_Demo_colorspace(CarImageSet[index][imgPxlVal], color_space='YCrCb', size=size))\n",
    "vis_labels.append('YCrCb')\n",
    "vis_imgs.append(bin_spatial_Demo_colorspace(CarImageSet[index][imgPxlVal], color_space='LAB', size=size))\n",
    "vis_labels.append('LAB')\n",
    "\n",
    "pltImages([CarImageSet[index][imgPxlVal]], [\"Original Image\"], 1, 1, 20, 2)\n",
    "pltHistograms(vis_imgs, vis_labels, 7, 1, xlim = [0, 200])\n",
    "\n",
    "vis_imgs = []\n",
    "vis_labels = []\n",
    "\n",
    "index = randint(0, len(NonCarImageSet))\n",
    "\n",
    "vis_imgs.append(bin_spatial_Demo_colorspace(NonCarImageSet[index][imgPxlVal], size=size))\n",
    "vis_labels.append('RGB')\n",
    "vis_imgs.append(bin_spatial_Demo_colorspace(NonCarImageSet[index][imgPxlVal], color_space='HSV', size=size))\n",
    "vis_labels.append('HSV')\n",
    "vis_imgs.append(bin_spatial_Demo_colorspace(NonCarImageSet[index][imgPxlVal], color_space='LUV', size=size))\n",
    "vis_labels.append('LUV')\n",
    "vis_imgs.append(bin_spatial_Demo_colorspace(NonCarImageSet[index][imgPxlVal], color_space='HLS', size=size))\n",
    "vis_labels.append('HLS')\n",
    "vis_imgs.append(bin_spatial_Demo_colorspace(NonCarImageSet[index][imgPxlVal], color_space='YUV', size=size))\n",
    "vis_labels.append('YUV')\n",
    "vis_imgs.append(bin_spatial_Demo_colorspace(NonCarImageSet[index][imgPxlVal], color_space='YCrCb', size=size))\n",
    "vis_labels.append('YCrCb')\n",
    "vis_imgs.append(bin_spatial_Demo_colorspace(NonCarImageSet[index][imgPxlVal], color_space='LAB', size=size))\n",
    "vis_labels.append('LAB')\n",
    "\n",
    "pltImages([NonCarImageSet[index][imgPxlVal]], [\"Original Image\"], 1, 1, 20, 2)\n",
    "pltHistograms(vis_imgs, vis_labels, 7, 1, xlim = [0, 200])"
   ]
  },
  {
   "cell_type": "markdown",
   "metadata": {},
   "source": [
    "#### I started with resize to 32*32 but the output proved to be very large, 3072, which I consider very large for a soft qualifier like this and better to be downsampled to 8*8"
   ]
  },
  {
   "cell_type": "markdown",
   "metadata": {},
   "source": [
    "#### All color spaces provide different signatures between the two classes, take RGB for simplicity"
   ]
  },
  {
   "cell_type": "markdown",
   "metadata": {},
   "source": [
    "### Visualize HOG features"
   ]
  },
  {
   "cell_type": "code",
   "execution_count": 7,
   "metadata": {
    "collapsed": true
   },
   "outputs": [],
   "source": [
    "def get_hog_features_demo(img, orient, pix_per_cell, cell_per_block, blockNorm, trns_sqrt, visualize=False, feature_vec=True):\n",
    "    if visualize == True:\n",
    "        features, hog_im = hog(img,\n",
    "                               orientations=orient,\n",
    "                               pixels_per_cell=(pix_per_cell, pix_per_cell),\n",
    "                               cells_per_block=(cell_per_block, cell_per_block),\n",
    "                               block_norm = blockNorm, #Block Normalize didn't show any change effect on image\n",
    "                               transform_sqrt=trns_sqrt, \n",
    "                               visualise=visualize,\n",
    "                               feature_vector=feature_vec)\n",
    "        return features, hog_im\n",
    "    else:      \n",
    "        features = hog(img,\n",
    "                       orientations=orient,\n",
    "                       pixels_per_cell=(pix_per_cell, pix_per_cell),\n",
    "                       cells_per_block=(cell_per_block, cell_per_block),\n",
    "                       block_norm = blockNorm, #Block Normalize didn't show any change effect on image\n",
    "                       transform_sqrt=trns_sqrt, \n",
    "                       visualise=visualize,\n",
    "                       feature_vector=feature_vec)\n",
    "        return features"
   ]
  },
  {
   "cell_type": "code",
   "execution_count": null,
   "metadata": {
    "collapsed": true
   },
   "outputs": [],
   "source": [
    "orient = 8\n",
    "pix_per_cell = 16\n",
    "cells_per_block = 2\n",
    "TransformSqrt = True\n",
    "\n",
    "blockNorm = ['L1', 'L1-sqrt', 'L2', 'L2-Hys']\n",
    "\n",
    "hc = 'ALL'"
   ]
  },
  {
   "cell_type": "code",
   "execution_count": null,
   "metadata": {
    "collapsed": true
   },
   "outputs": [],
   "source": [
    "def VisauliseHOG(img):\n",
    "    vis = True\n",
    "    __, hog_im = get_hog_features_demo(\n",
    "        img,\n",
    "        orient,\n",
    "        pix_per_cell,\n",
    "        cells_per_block,\n",
    "        'L2-Hys',\n",
    "        visualize=vis,\n",
    "        trns_sqrt=TransformSqrt,\n",
    "        feature_vec=False)\n",
    "    return hog_im"
   ]
  },
  {
   "cell_type": "code",
   "execution_count": null,
   "metadata": {
    "collapsed": true
   },
   "outputs": [],
   "source": [
    "def ExploreHOGSpace(img):\n",
    "    HOG_IMs = []\n",
    "    hog_label = []\n",
    "    \n",
    "    hog_0 = VisauliseHOG(img[:,:,Channel_0])\n",
    "    hog_1 = VisauliseHOG(img[:,:,Channel_1])\n",
    "    hog_2 = VisauliseHOG(img[:,:,Channel_2])\n",
    "    pltImages([hog_0], [\"RGB_Channel 0\"], 1, 1)\n",
    "    pltImages([hog_1], [\"RGB_Channel 1\"], 1, 1)\n",
    "    pltImages([hog_2], [\"RGB_Channel 2\"], 1, 1)\n",
    "\n",
    "    HSV = cv2.cvtColor(img, cv2.COLOR_RGB2HSV)\n",
    "\n",
    "    hog_0 = VisauliseHOG(HSV[:,:,Channel_0])\n",
    "    hog_1 = VisauliseHOG(HSV[:,:,Channel_1])\n",
    "    hog_2 = VisauliseHOG(HSV[:,:,Channel_2])\n",
    "    pltImages([hog_0], [\"HSV_Channel 0\"], 1, 1)\n",
    "    pltImages([hog_1], [\"HSV_Channel 1\"], 1, 1)\n",
    "    pltImages([hog_2], [\"HSV_Channel 2\"], 1, 1)\n",
    "\n",
    "    HLS = cv2.cvtColor(img, cv2.COLOR_RGB2HLS)\n",
    "\n",
    "    hog_0 = VisauliseHOG(HLS[:,:,Channel_0])\n",
    "    hog_1 = VisauliseHOG(HLS[:,:,Channel_1])\n",
    "    hog_2 = VisauliseHOG(HLS[:,:,Channel_2])\n",
    "    pltImages([hog_0], [\"HLS_Channel 0\"], 1, 1)\n",
    "    pltImages([hog_1], [\"HLS_Channel 1\"], 1, 1)\n",
    "    pltImages([hog_2], [\"HLS_Channel 2\"], 1, 1)\n",
    "\n",
    "    LAB = cv2.cvtColor(img, cv2.COLOR_RGB2LAB)\n",
    "\n",
    "    hog_0 = VisauliseHOG(LAB[:,:,Channel_0])\n",
    "    hog_1 = VisauliseHOG(LAB[:,:,Channel_1])\n",
    "    hog_2 = VisauliseHOG(LAB[:,:,Channel_2])\n",
    "    pltImages([hog_0], [\"LAB_Channel 0\"], 1, 1)\n",
    "    pltImages([hog_1], [\"LAB_Channel 1\"], 1, 1)\n",
    "    pltImages([hog_2], [\"LAB_Channel 2\"], 1, 1)\n",
    "\n",
    "    YUV = cv2.cvtColor(img, cv2.COLOR_RGB2YUV)\n",
    "\n",
    "    hog_0 = VisauliseHOG(YUV[:,:,Channel_0])\n",
    "    hog_1 = VisauliseHOG(YUV[:,:,Channel_1])\n",
    "    hog_2 = VisauliseHOG(YUV[:,:,Channel_2])\n",
    "    pltImages([hog_0], [\"YUV_Channel 0\"], 1, 1)\n",
    "    pltImages([hog_1], [\"YUV_Channel 1\"], 1, 1)\n",
    "    pltImages([hog_2], [\"YUV_Channel 2\"], 1, 1)\n",
    "\n",
    "    LUV = cv2.cvtColor(img, cv2.COLOR_RGB2LUV)\n",
    "\n",
    "    hog_0 = VisauliseHOG(LUV[:,:,Channel_0])\n",
    "    hog_1 = VisauliseHOG(LUV[:,:,Channel_1])\n",
    "    hog_2 = VisauliseHOG(LUV[:,:,Channel_2])\n",
    "    pltImages([hog_0], [\"LUV_Channel 0\"], 1, 1)\n",
    "    pltImages([hog_1], [\"LUV_Channel 1\"], 1, 1)\n",
    "    pltImages([hog_2], [\"LUV_Channel 2\"], 1, 1)\n",
    "    \n",
    "    YCrCb = cv2.cvtColor(img, cv2.COLOR_RGB2YCrCb)\n",
    "\n",
    "    hog_0 = VisauliseHOG(YCrCb[:,:,Channel_0])\n",
    "    hog_1 = VisauliseHOG(YCrCb[:,:,Channel_1])\n",
    "    hog_2 = VisauliseHOG(YCrCb[:,:,Channel_2])\n",
    "    pltImages([hog_0], [\"YCrCb_Channel 0\"], 1, 1)\n",
    "    pltImages([hog_1], [\"YCrCb_Channel 1\"], 1, 1)\n",
    "    pltImages([hog_2], [\"YCrCb_Channel 2\"], 1, 1)"
   ]
  },
  {
   "cell_type": "code",
   "execution_count": null,
   "metadata": {
    "collapsed": true,
    "scrolled": true
   },
   "outputs": [],
   "source": [
    "CarImageIndex = 0\n",
    "#CarImageIndex = randint(0, len(CarImageSet))\n",
    "HOGCarImage = [CarImageSet[CarImageIndex][imgPxlVal]]\n",
    "HOGCarImageLabel = [CarImageSet[CarImageIndex][img_Label]]\n",
    "\n",
    "pltImages(HOGCarImage, HOGCarImageLabel, 1, 1)\n",
    "ExploreHOGSpace(HOGCarImage[0])\n",
    "\n",
    "NonCarImageIndex = 0\n",
    "#NonCarImageIndex = randint(0, len(NonCarImageSet))\n",
    "HOGNonCarImage = [NonCarImageSet[NonCarImageIndex][imgPxlVal]]\n",
    "HOGCarImageLabel = [CarImageSet[CarImageIndex][img_Label]]\n",
    "\n",
    "pltImages(HOGNonCarImage, HOGCarImageLabel, 1, 1)\n",
    "ExploreHOGSpace(HOGNonCarImage[0])"
   ]
  },
  {
   "cell_type": "markdown",
   "metadata": {},
   "source": [
    "# Enough Visualization :D, Let's Extract Some Features"
   ]
  },
  {
   "cell_type": "code",
   "execution_count": 8,
   "metadata": {
    "collapsed": true
   },
   "outputs": [],
   "source": [
    "def normalize(data):\n",
    "    return preprocessing.normalize(data)"
   ]
  },
  {
   "cell_type": "code",
   "execution_count": 29,
   "metadata": {
    "collapsed": true
   },
   "outputs": [],
   "source": [
    "AllowedColorSpace = ['RGB','HSV','HLS', 'LAB', 'YUV', 'LUV', 'YCrCb']\n",
    "AllowedblockNorm = ['L1', 'L1-sqrt', 'L2', 'L2-Hys']\n",
    "\n",
    "#Calibration Parameters\n",
    "CHist_EN=False\n",
    "SB_EN=False\n",
    "HOG_EN=True\n",
    "Nrmlz=False\n",
    "\n",
    "#Color Histogram\n",
    "histSize = [48]\n",
    "histrange = [0,255]\n",
    "Hist_colorspace = \"RGB\"\n",
    "CS_Ch_Idx = \"All\"\n",
    "\n",
    "#Spatial Binning\n",
    "size=(8, 8)\n",
    "SB_colorspace = \"RGB\"\n",
    "\n",
    "#HOG Params\n",
    "HOG_colorspace = \"RGB\"\n",
    "orient = 8\n",
    "pix_per_cell = 16\n",
    "cells_per_block = 2\n",
    "blk_Norm = \"L2-Hys\"\n",
    "TransformSqrt = True\n",
    "feat_vec = True\n",
    "HOG_Ch_Idx = \"All\""
   ]
  },
  {
   "cell_type": "code",
   "execution_count": 9,
   "metadata": {
    "collapsed": true
   },
   "outputs": [],
   "source": [
    "def extractFeatures(img,debug=False,ReturnSizes=False):\n",
    "    \n",
    "    hist_feat = []\n",
    "    SB_feat = []\n",
    "    hog_feat = []\n",
    "    \n",
    "    hist_feat_shape = 0\n",
    "    SB_feat_shape   = 0\n",
    "    hog_feat_shape  = 0\n",
    "    \n",
    "    histrange = [0,255]\n",
    "    \n",
    "    if CHist_EN == True:\n",
    "        #Extract Color Hitogram Features\n",
    "        if Hist_colorspace == \"HSV\":\n",
    "            hist_image = cv2.cvtColor(img, cv2.COLOR_RGB2HSV)\n",
    "        elif Hist_colorspace == \"HLS\":\n",
    "            hist_image = cv2.cvtColor(img, cv2.COLOR_RGB2HLS)\n",
    "        elif Hist_colorspace == \"LAB\":\n",
    "            hist_image = cv2.cvtColor(img, cv2.COLOR_RGB2LAB)\n",
    "        elif Hist_colorspace == \"YUV\":\n",
    "            hist_image = cv2.cvtColor(img, cv2.COLOR_RGB2YUV)\n",
    "        elif Hist_colorspace == \"LUV\":\n",
    "            hist_image = cv2.cvtColor(img, cv2.COLOR_RGB2LUV)\n",
    "        elif Hist_colorspace == \"YCrCb\":\n",
    "            hist_image = cv2.cvtColor(img, cv2.COLOR_RGB2YCrCb)\n",
    "        else: #Assume RGB No action needed\n",
    "            hist_image = np.copy(img)\n",
    "        \n",
    "        if CS_Ch_Idx != \"All\":\n",
    "            hist_feat = cv2.calcHist(hist_image,[CS_Ch_Idx],None,histSize,histrange)\n",
    "        else:\n",
    "            hist_feat = []\n",
    "            for Ch_Idx in range(hist_image.shape[2]):\n",
    "                hist_feat.append(cv2.calcHist(hist_image,[Ch_Idx],None,histSize,histrange))\n",
    "        \n",
    "        hist_feat = np.ravel(hist_feat).reshape(1, -1)\n",
    "\n",
    "        if debug == True:\n",
    "            print(\"Histogram\")\n",
    "            print(\"Before Normalize\")\n",
    "            print(hist_feat.shape)\n",
    "            print(hist_feat)\n",
    "        \n",
    "        if Nrmlz == True:\n",
    "            hist_feat = normalize(hist_feat)\n",
    "            if debug == True:\n",
    "                print(\"After Normalize\")\n",
    "                print(hist_feat.shape)\n",
    "                print(hist_feat)\n",
    "                \n",
    "        hist_feat = hist_feat[0]\n",
    "        hist_feat_shape = hist_feat.shape\n",
    "        \n",
    "    if SB_EN == True:\n",
    "        #Extract Spatial Binning Features\n",
    "        if Hist_colorspace == \"HSV\":\n",
    "            SB_image = cv2.cvtColor(img, cv2.COLOR_RGB2HSV)\n",
    "        elif Hist_colorspace == \"HLS\":\n",
    "            SB_image = cv2.cvtColor(img, cv2.COLOR_RGB2HLS)\n",
    "        elif Hist_colorspace == \"LAB\":\n",
    "            SB_image = cv2.cvtColor(img, cv2.COLOR_RGB2LAB)\n",
    "        elif Hist_colorspace == \"YUV\":\n",
    "            SB_image = cv2.cvtColor(img, cv2.COLOR_RGB2YUV)\n",
    "        elif Hist_colorspace == \"LUV\":\n",
    "            SB_image = cv2.cvtColor(img, cv2.COLOR_RGB2LUV)\n",
    "        elif Hist_colorspace == \"YCrCb\":\n",
    "            SB_image = cv2.cvtColor(img, cv2.COLOR_RGB2YCrCb)\n",
    "        else: #Assume RGB No action needed\n",
    "            SB_image = np.copy(img)\n",
    "        \n",
    "        SB_feat = cv2.resize(SB_image, size).ravel().reshape(1, -1).astype(np.float64)\n",
    "\n",
    "        if debug == True:\n",
    "            print(\"Spatial Binning\")\n",
    "            print(\"Before Normalize\")\n",
    "            print(SB_feat.shape)\n",
    "            print(SB_feat)\n",
    "        \n",
    "        if Nrmlz == True:\n",
    "            SB_feat = normalize(SB_feat)\n",
    "            if debug == True:\n",
    "                print(\"After Normalize\")\n",
    "                print(SB_feat.shape)\n",
    "                print(SB_feat)\n",
    "                \n",
    "        SB_feat = SB_feat[0]\n",
    "        SB_feat_shape = SB_feat.shape\n",
    "    \n",
    "    if HOG_EN == True:\n",
    "        #Extract HOG Features\n",
    "        if HOG_colorspace == \"HSV\":\n",
    "            hog_image = cv2.cvtColor(img, cv2.COLOR_RGB2HSV)\n",
    "        elif HOG_colorspace == \"HLS\":\n",
    "            hog_image = cv2.cvtColor(img, cv2.COLOR_RGB2HLS)\n",
    "        elif HOG_colorspace == \"LAB\":\n",
    "            hog_image = cv2.cvtColor(img, cv2.COLOR_RGB2LAB)\n",
    "        elif HOG_colorspace == \"YUV\":\n",
    "            hog_image = cv2.cvtColor(img, cv2.COLOR_RGB2YUV)\n",
    "        elif HOG_colorspace == \"LUV\":\n",
    "            hog_image = cv2.cvtColor(img, cv2.COLOR_RGB2LUV)\n",
    "        elif HOG_colorspace == \"YCrCb\":\n",
    "            hog_image = cv2.cvtColor(img, cv2.COLOR_RGB2YCrCb)\n",
    "        else: #Assume RGB No action needed\n",
    "            hog_image = np.copy(img)\n",
    "        \n",
    "        if HOG_Ch_Idx != \"All\":\n",
    "            hog_feat = get_hog_features_demo(\n",
    "                img[:,:,HOG_Ch_Idx],\n",
    "                orient,\n",
    "                pix_per_cell,\n",
    "                cells_per_block,\n",
    "                blk_Norm,\n",
    "                visualize=False,\n",
    "                trns_sqrt=TransformSqrt,\n",
    "                feature_vec=True)\n",
    "        else:\n",
    "            for Ch_Idx in range(hog_image.shape[2]):\n",
    "                hog_feat.append(get_hog_features_demo(\n",
    "                    img[:,:,Ch_Idx],\n",
    "                    orient,\n",
    "                    pix_per_cell,\n",
    "                    cells_per_block,\n",
    "                    blk_Norm,\n",
    "                    visualize=False,\n",
    "                    trns_sqrt=TransformSqrt,\n",
    "                    feature_vec=True))\n",
    "        \n",
    "        hog_feat = np.ravel(hog_feat).reshape(1, -1)\n",
    "        \n",
    "        if debug == True:\n",
    "            print(\"HOG\")\n",
    "            print(\"Before Normalize\")\n",
    "            print(hog_feat.shape)\n",
    "            print(hog_feat)\n",
    "        \n",
    "        if Nrmlz == True:\n",
    "            hog_feat = normalize(hog_feat)\n",
    "            if debug == True:\n",
    "                print(\"After Normalize\")\n",
    "                print(hog_feat.shape)\n",
    "                print(hog_feat)\n",
    "                \n",
    "        hog_feat = hog_feat[0]\n",
    "        hog_feat_shape = hog_feat.shape\n",
    "    \n",
    "    if debug == True:\n",
    "        print(\"Before Concatenation\")\n",
    "        print(hist_feat)\n",
    "        print(SB_feat)\n",
    "        print(hog_feat)\n",
    "    \n",
    "    features = np.hstack((hist_feat, SB_feat, hog_feat))\n",
    "    \n",
    "    if debug == True:\n",
    "        print(\"Output\")\n",
    "        print(len(features))\n",
    "        print(features)\n",
    "    \n",
    "    #features = np.ravel(features)\n",
    "    \n",
    "    #if debug == True:\n",
    "        #print(features.shape)\n",
    "        #print(features)\n",
    "\n",
    "    if ReturnSizes == False:\n",
    "        return features\n",
    "    else:\n",
    "        return (hist_feat_shape, \n",
    "                SB_feat_shape, \n",
    "                hog_feat_shape, \n",
    "                features)"
   ]
  },
  {
   "cell_type": "markdown",
   "metadata": {},
   "source": [
    "##### Test Feature Extraction Function"
   ]
  },
  {
   "cell_type": "code",
   "execution_count": 30,
   "metadata": {
    "scrolled": false
   },
   "outputs": [
    {
     "data": {
      "image/png": "[encoded data removed]",
      "text/plain": [
       "<matplotlib.figure.Figure at 0x19632250470>"
      ]
     },
     "metadata": {},
     "output_type": "display_data"
    },
    {
     "name": "stdout",
     "output_type": "stream",
     "text": [
      "0\n",
      "0\n",
      "(864,)\n"
     ]
    }
   ],
   "source": [
    "CarImageIndex = 0\n",
    "#CarImageIndex = randint(0, len(CarImageSet))\n",
    "HOGCarImage = [CarImageSet[CarImageIndex][imgPxlVal]]\n",
    "HOGCarImageLabel = [CarImageSet[CarImageIndex][img_Label]]\n",
    "\n",
    "pltImages(HOGCarImage, HOGCarImageLabel, 1, 1)\n",
    "Test = extractFeatures(HOGCarImage[0],\n",
    "                       debug=False,\n",
    "                       ReturnSizes=True)\n",
    "print(Test[0])\n",
    "print(Test[1])\n",
    "print(Test[2])"
   ]
  },
  {
   "cell_type": "code",
   "execution_count": null,
   "metadata": {
    "collapsed": true,
    "scrolled": true
   },
   "outputs": [],
   "source": [
    "Car_features = []\n",
    "NonCar_features = []\n",
    "\n",
    "for image in CarImageSet:\n",
    "    Car_features.append(extractFeatures(image[imgPxlVal],\n",
    "                                        debug=False))\n",
    "print(\"Car Feature Collected\")\n",
    "\n",
    "for image in NonCarImageSet:\n",
    "    NonCar_features.append(extractFeatures(image[imgPxlVal],\n",
    "                                        debug=False))\n",
    "print(\"Non Car Feature Collected\")"
   ]
  },
  {
   "cell_type": "code",
   "execution_count": null,
   "metadata": {
    "collapsed": true
   },
   "outputs": [],
   "source": [
    "FeatureSet = np.vstack((Car_features, NonCar_features)).astype(np.float64)\n",
    "LbaelSet = np.hstack((np.ones(len(Car_features)), np.zeros(len(NonCar_features))))"
   ]
  },
  {
   "cell_type": "code",
   "execution_count": null,
   "metadata": {
    "collapsed": true
   },
   "outputs": [],
   "source": [
    "Feature_scaler = StandardScaler().fit(FeatureSet)\n",
    "Scaled_FeatureSet = Feature_scaler.transform(FeatureSet)"
   ]
  },
  {
   "cell_type": "code",
   "execution_count": null,
   "metadata": {
    "collapsed": true
   },
   "outputs": [],
   "source": [
    "print(FeatureSet.mean())\n",
    "print(FeatureSet.std())\n",
    "print(Scaled_FeatureSet.mean())\n",
    "print(Scaled_FeatureSet.std())"
   ]
  },
  {
   "cell_type": "code",
   "execution_count": null,
   "metadata": {
    "collapsed": true
   },
   "outputs": [],
   "source": [
    "rand_state = 20\n",
    "#rand_state = np.random.randint(0, 100)\n",
    "Feature_train, Feature_test, Label_train, Label_test = train_test_split(Scaled_FeatureSet, LbaelSet, test_size=0.2, random_state=rand_state)"
   ]
  },
  {
   "cell_type": "markdown",
   "metadata": {},
   "source": [
    "### Train/Load Model"
   ]
  },
  {
   "cell_type": "code",
   "execution_count": 10,
   "metadata": {
    "collapsed": true
   },
   "outputs": [],
   "source": [
    "def TrainLinearSVCModel(feat, label):\n",
    "    svc = LinearSVC()\n",
    "    svc.fit(feat, label)\n",
    "\n",
    "    return svc\n",
    "\n",
    "def TrainModel_WithParameterSearch(feat, label):\n",
    "    parameters = {'C':[1, 100]}\n",
    "\n",
    "    svc = LinearSVC()\n",
    "    clf = GridSearchCV(svc, parameters)\n",
    "    clf.fit(feat, label)\n",
    "\n",
    "    return clf\n",
    "\n",
    "def TrainSVCModel(feat, label):\n",
    "    svc = SVC(kernel='linear')\n",
    "    svc.fit(feat, label)\n",
    "\n",
    "    return svc\n",
    "\n",
    "#below code is obtained from http://scikit-learn.org/stable/modules/model_persistence.html\n",
    "def SaveModel(clf):\n",
    "    s = pickle.dumps(clf)\n",
    "    joblib.dump(clf, 'TrainedModel.pkl')\n",
    "\n",
    "def LoadModel():\n",
    "    return joblib.load('TrainedModel.pkl') "
   ]
  },
  {
   "cell_type": "code",
   "execution_count": null,
   "metadata": {
    "collapsed": true
   },
   "outputs": [],
   "source": [
    "print(\"Training\")\n",
    "clf = TrainLinearSVCModel(Feature_train, Label_train)\n",
    "SaveModel(clf)\n",
    "\n",
    "#clf = LoadModel()"
   ]
  },
  {
   "cell_type": "markdown",
   "metadata": {},
   "source": [
    "### Test Model"
   ]
  },
  {
   "cell_type": "code",
   "execution_count": null,
   "metadata": {
    "collapsed": true
   },
   "outputs": [],
   "source": [
    "print('Test Accuracy of SVC = ', clf.score(Feature_test, Label_test))\n",
    "\n",
    "for i in range(10):\n",
    "    print('My SVC predicts: ', clf.predict(Feature_test[i].reshape(1, -1)), 'for label: ', Label_test[i])"
   ]
  },
  {
   "cell_type": "markdown",
   "metadata": {},
   "source": [
    "## Expolre Different parameters as discussed in the sheet"
   ]
  },
  {
   "cell_type": "code",
   "execution_count": null,
   "metadata": {
    "scrolled": false
   },
   "outputs": [
    {
     "name": "stdout",
     "output_type": "stream",
     "text": [
      "Param Set( 0 ) result in acc of  0.737331081081  mean= 1.10022101539e-18  std= 1.0  CH Feat cnt= (144,)  SB Feat cnt= 0  HOG Feat cnt= 0\n",
      "Param Set( 1 ) result in acc of  0.781531531532  mean= -1.78646998207e-17  std= 1.0  CH Feat cnt= (144,)  SB Feat cnt= 0  HOG Feat cnt= 0\n",
      "Param Set( 2 ) result in acc of  0.706644144144  mean= -8.06411994238e-18  std= 1.0  CH Feat cnt= (48,)  SB Feat cnt= 0  HOG Feat cnt= 0\n",
      "Param Set( 3 ) result in acc of  0.737612612613  mean= -1.29859419847e-18  std= 1.0  CH Feat cnt= (240,)  SB Feat cnt= 0  HOG Feat cnt= 0\n",
      "Param Set( 4 ) result in acc of  0.718468468468  mean= -1.8587067154e-18  std= 1.0  CH Feat cnt= (48,)  SB Feat cnt= 0  HOG Feat cnt= 0\n",
      "Param Set( 5 ) result in acc of  0.713963963964  mean= 8.46003280777e-18  std= 1.0  CH Feat cnt= (48,)  SB Feat cnt= 0  HOG Feat cnt= 0\n",
      "Param Set( 6 ) result in acc of  0.719594594595  mean= -8.16830753853e-18  std= 1.0  CH Feat cnt= (48,)  SB Feat cnt= 0  HOG Feat cnt= 0\n",
      "Param Set( 7 ) result in acc of  0.743806306306  mean= 1.10022101539e-18  std= 1.0  CH Feat cnt= (144,)  SB Feat cnt= 0  HOG Feat cnt= 0\n",
      "Param Set( 8 ) result in acc of  0.68384009009  mean= -9.50190876931e-19  std= 1.0  CH Feat cnt= (48,)  SB Feat cnt= 0  HOG Feat cnt= 0\n",
      "Param Set( 9 ) result in acc of  0.6875  mean= 2.05041189233e-18  std= 1.0  CH Feat cnt= (48,)  SB Feat cnt= 0  HOG Feat cnt= 0\n",
      "Param Set( 10 ) result in acc of  0.69115990991  mean= -1.20524211232e-17  std= 1.0  CH Feat cnt= (48,)  SB Feat cnt= 0  HOG Feat cnt= 0\n",
      "Param Set( 11 ) result in acc of  0.710022522523  mean= -2.57273904105e-18  std= 1.0  CH Feat cnt= (144,)  SB Feat cnt= 0  HOG Feat cnt= 0\n",
      "Param Set( 12 ) result in acc of  0.673986486486  mean= -3.05478031926e-18  std= 1.0  CH Feat cnt= (48,)  SB Feat cnt= 0  HOG Feat cnt= 0\n",
      "Param Set( 13 ) result in acc of  0.663851351351  mean= 9.91032414624e-18  std= 1.0  CH Feat cnt= (48,)  SB Feat cnt= 0  HOG Feat cnt= 0\n",
      "Param Set( 14 ) result in acc of  0.670045045045  mean= 2.00040184617e-19  std= 1.0  CH Feat cnt= (48,)  SB Feat cnt= 0  HOG Feat cnt= 0\n",
      "Param Set( 15 ) result in acc of  0.688907657658  mean= 2.03374187694e-18  std= 1.0  CH Feat cnt= (144,)  SB Feat cnt= 0  HOG Feat cnt= 0\n",
      "Param Set( 16 ) result in acc of  0.743243243243  mean= 2.91725269233e-19  std= 1.0  CH Feat cnt= (48,)  SB Feat cnt= 0  HOG Feat cnt= 0\n",
      "Param Set( 17 ) result in acc of  0.744369369369  mean= 3.93829113465e-18  std= 1.0  CH Feat cnt= (48,)  SB Feat cnt= 0  HOG Feat cnt= 0\n",
      "Param Set( 18 ) result in acc of  0.744369369369  mean= -2.8964151731e-18  std= 1.0  CH Feat cnt= (48,)  SB Feat cnt= 0  HOG Feat cnt= 0\n",
      "Param Set( 19 ) result in acc of  0.767736486486  mean= -3.60072332311e-18  std= 1.0  CH Feat cnt= (144,)  SB Feat cnt= 0  HOG Feat cnt= 0\n",
      "Param Set( 20 ) result in acc of  0.71143018018  mean= 6.06788560005e-18  std= 1.0  CH Feat cnt= (48,)  SB Feat cnt= 0  HOG Feat cnt= 0\n",
      "Param Set( 21 ) result in acc of  0.695664414414  mean= 6.53464603083e-18  std= 1.0  CH Feat cnt= (48,)  SB Feat cnt= 0  HOG Feat cnt= 0\n",
      "Param Set( 22 ) result in acc of  0.706081081081  mean= -2.53384233848e-18  std= 1.0  CH Feat cnt= (48,)  SB Feat cnt= 0  HOG Feat cnt= 0\n",
      "Param Set( 23 ) result in acc of  0.732545045045  mean= -4.71205768209e-18  std= 1.0  CH Feat cnt= (144,)  SB Feat cnt= 0  HOG Feat cnt= 0\n",
      "Param Set( 24 ) result in acc of  0.758445945946  mean= 2.60885740772e-18  std= 1.0  CH Feat cnt= (48,)  SB Feat cnt= 0  HOG Feat cnt= 0\n",
      "Param Set( 25 ) result in acc of  0.756193693694  mean= 2.27545710002e-18  std= 1.0  CH Feat cnt= (48,)  SB Feat cnt= 0  HOG Feat cnt= 0\n",
      "Param Set( 26 ) result in acc of  0.765765765766  mean= -2.36714218464e-18  std= 1.0  CH Feat cnt= (48,)  SB Feat cnt= 0  HOG Feat cnt= 0\n",
      "Param Set( 27 ) result in acc of  0.779560810811  mean= -1.75813095591e-17  std= 1.0  CH Feat cnt= (144,)  SB Feat cnt= 0  HOG Feat cnt= 0\n",
      "Param Set( 28 ) result in acc of  0.708051801802  mean= 6.47630097698e-18  std= 1.0  CH Feat cnt= (48,)  SB Feat cnt= 0  HOG Feat cnt= 0\n",
      "Param Set( 29 ) result in acc of  0.706925675676  mean= -1.95872680771e-18  std= 1.0  CH Feat cnt= (48,)  SB Feat cnt= 0  HOG Feat cnt= 0\n",
      "Param Set( 30 ) result in acc of  0.711711711712  mean= -2.10042193848e-18  std= 1.0  CH Feat cnt= (48,)  SB Feat cnt= 0  HOG Feat cnt= 0\n",
      "Param Set( 31 ) result in acc of  0.738175675676  mean= -6.37905922057e-18  std= 1.0  CH Feat cnt= (144,)  SB Feat cnt= 0  HOG Feat cnt= 0\n",
      "Param Set( 32 ) result in acc of  0.911317567568  mean= 4.76762440004e-17  std= 1.0  CH Feat cnt= 0  SB Feat cnt= (3072,)  HOG Feat cnt= 0\n",
      "Param Set( 33 ) result in acc of  0.90259009009  mean= 1.90104855448e-16  std= 1.0  CH Feat cnt= 0  SB Feat cnt= (192,)  HOG Feat cnt= 0\n",
      "Param Set( 34 ) result in acc of  0.902027027027  mean= 7.74947340199e-17  std= 1.0  CH Feat cnt= 0  SB Feat cnt= (12288,)  HOG Feat cnt= 0\n",
      "Param Set( 35 ) result in acc of  0.908220720721  mean= 4.76762440004e-17  std= 1.0  CH Feat cnt= 0  SB Feat cnt= (3072,)  HOG Feat cnt= 0\n",
      "Param Set( 36 ) result in acc of  0.907376126126  mean= 4.76762440004e-17  std= 1.0  CH Feat cnt= 0  SB Feat cnt= (3072,)  HOG Feat cnt= 0\n",
      "Param Set( 37 ) result in acc of  0.911880630631  mean= 4.76762440004e-17  std= 1.0  CH Feat cnt= 0  SB Feat cnt= (3072,)  HOG Feat cnt= 0\n",
      "Param Set( 38 ) result in acc of  0.910191441441  mean= 4.76762440004e-17  std= 1.0  CH Feat cnt= 0  SB Feat cnt= (3072,)  HOG Feat cnt= 0\n",
      "Param Set( 39 ) result in acc of  0.911599099099  mean= 4.76762440004e-17  std= 1.0  CH Feat cnt= 0  SB Feat cnt= (3072,)  HOG Feat cnt= 0\n",
      "Param Set( 40 ) result in acc of  0.909065315315  mean= 4.76762440004e-17  std= 1.0  CH Feat cnt= 0  SB Feat cnt= (3072,)  HOG Feat cnt= 0\n",
      "Param Set( 41 ) result in acc of  0.954673423423  mean= -9.65267979735e-17  std= 1.0  CH Feat cnt= 0  SB Feat cnt= 0  HOG Feat cnt= (864,)\n",
      "Param Set( 42 ) result in acc of  0.952421171171  mean= -5.36061389176e-16  std= 1.0  CH Feat cnt= 0  SB Feat cnt= 0  HOG Feat cnt= (864,)\n",
      "Param Set( 43 ) result in acc of  0.93018018018  mean= -3.01393878156e-17  std= 1.0  CH Feat cnt= 0  SB Feat cnt= 0  HOG Feat cnt= (432,)\n",
      "Param Set( 44 ) result in acc of  0.958051801802  mean= 8.68322579153e-17  std= 1.0  CH Feat cnt= 0  SB Feat cnt= 0  HOG Feat cnt= (1728,)\n",
      "Param Set( 45 ) result in acc of  0.904842342342  mean= -1.97039581848e-17  std= 1.0  CH Feat cnt= 0  SB Feat cnt= 0  HOG Feat cnt= (96,)\n",
      "Param Set( 46 ) result in acc of  0.922297297297  mean= -2.13742937263e-16  std= 1.0  CH Feat cnt= 0  SB Feat cnt= 0  HOG Feat cnt= (384,)\n",
      "Param Set( 47 ) result in acc of  0.949042792793  mean= 6.90138636929e-18  std= 1.0  CH Feat cnt= 0  SB Feat cnt= 0  HOG Feat cnt= (384,)\n"
     ]
    },
    {
     "name": "stderr",
     "output_type": "stream",
     "text": [
      "C:\\Miniconda3\\envs\\gpu_env\\lib\\site-packages\\skimage\\feature\\_hog.py:119: skimage_deprecation: Default value of `block_norm`==`L1` is deprecated and will be changed to `L2-Hys` in v0.15\n",
      "  'be changed to `L2-Hys` in v0.15', skimage_deprecation)\n"
     ]
    },
    {
     "name": "stdout",
     "output_type": "stream",
     "text": [
      "Param Set( 48 ) result in acc of  0.959459459459  mean= -9.56534743897e-18  std= 1.0  CH Feat cnt= 0  SB Feat cnt= 0  HOG Feat cnt= (864,)\n",
      "Param Set( 49 ) result in acc of  0.971846846847  mean= -3.44735918157e-17  std= 1.0  CH Feat cnt= 0  SB Feat cnt= 0  HOG Feat cnt= (864,)\n",
      "Param Set( 50 ) result in acc of  0.974099099099  mean= 1.40202238282e-16  std= 1.0  CH Feat cnt= 0  SB Feat cnt= 0  HOG Feat cnt= (864,)\n",
      "Param Set( 51 ) result in acc of  0.954673423423  mean= 2.1388741073e-16  std= 1.0  CH Feat cnt= 0  SB Feat cnt= 0  HOG Feat cnt= (864,)\n",
      "Param Set( 52 ) result in acc of  0.920045045045  mean= -1.19268403406e-16  std= 1.0  CH Feat cnt= 0  SB Feat cnt= 0  HOG Feat cnt= (288,)\n",
      "Param Set( 53 ) result in acc of  0.932150900901  mean= -2.46093880453e-16  std= 1.0  CH Feat cnt= 0  SB Feat cnt= 0  HOG Feat cnt= (288,)\n",
      "Param Set( 54 ) result in acc of  0.938344594595  mean= 7.46149888622e-17  std= 1.0  CH Feat cnt= 0  SB Feat cnt= 0  HOG Feat cnt= (288,)\n",
      "Param Set( 55 ) result in acc of  0.95411036036  mean= -9.65267979735e-17  std= 1.0  CH Feat cnt= 0  SB Feat cnt= 0  HOG Feat cnt= (864,)\n",
      "Param Set( 56 ) result in acc of  0.918918918919  mean= -1.19268403406e-16  std= 1.0  CH Feat cnt= 0  SB Feat cnt= 0  HOG Feat cnt= (288,)\n",
      "Param Set( 57 ) result in acc of  0.932432432432  mean= -2.46093880453e-16  std= 1.0  CH Feat cnt= 0  SB Feat cnt= 0  HOG Feat cnt= (288,)\n",
      "Param Set( 58 ) result in acc of  0.937781531532  mean= 7.46149888622e-17  std= 1.0  CH Feat cnt= 0  SB Feat cnt= 0  HOG Feat cnt= (288,)\n",
      "Param Set( 59 ) result in acc of  0.955236486486  mean= -9.65267979735e-17  std= 1.0  CH Feat cnt= 0  SB Feat cnt= 0  HOG Feat cnt= (864,)\n",
      "Param Set( 60 ) result in acc of  0.920326576577  mean= -1.19268403406e-16  std= 1.0  CH Feat cnt= 0  SB Feat cnt= 0  HOG Feat cnt= (288,)\n",
      "Param Set( 61 ) result in acc of  0.931587837838  mean= -2.46093880453e-16  std= 1.0  CH Feat cnt= 0  SB Feat cnt= 0  HOG Feat cnt= (288,)\n",
      "Param Set( 62 ) result in acc of  0.938907657658  mean= 7.46149888622e-17  std= 1.0  CH Feat cnt= 0  SB Feat cnt= 0  HOG Feat cnt= (288,)\n",
      "Param Set( 63 ) result in acc of  0.955518018018  mean= -9.65267979735e-17  std= 1.0  CH Feat cnt= 0  SB Feat cnt= 0  HOG Feat cnt= (864,)\n",
      "Param Set( 64 ) result in acc of  0.920045045045  mean= -1.19268403406e-16  std= 1.0  CH Feat cnt= 0  SB Feat cnt= 0  HOG Feat cnt= (288,)\n",
      "Param Set( 65 ) result in acc of  0.931869369369  mean= -2.46093880453e-16  std= 1.0  CH Feat cnt= 0  SB Feat cnt= 0  HOG Feat cnt= (288,)\n",
      "Param Set( 66 ) result in acc of  0.938344594595  mean= 7.46149888622e-17  std= 1.0  CH Feat cnt= 0  SB Feat cnt= 0  HOG Feat cnt= (288,)\n",
      "Param Set( 67 ) result in acc of  0.954954954955  mean= -9.65267979735e-17  std= 1.0  CH Feat cnt= 0  SB Feat cnt= 0  HOG Feat cnt= (864,)\n",
      "Param Set( 68 ) result in acc of  0.920326576577  mean= -1.19268403406e-16  std= 1.0  CH Feat cnt= 0  SB Feat cnt= 0  HOG Feat cnt= (288,)\n",
      "Param Set( 69 ) result in acc of  0.932713963964  mean= -2.46093880453e-16  std= 1.0  CH Feat cnt= 0  SB Feat cnt= 0  HOG Feat cnt= (288,)\n",
      "Param Set( 70 ) result in acc of  0.938907657658  mean= 7.46149888622e-17  std= 1.0  CH Feat cnt= 0  SB Feat cnt= 0  HOG Feat cnt= (288,)\n",
      "Param Set( 71 ) result in acc of  0.954673423423  mean= -9.65267979735e-17  std= 1.0  CH Feat cnt= 0  SB Feat cnt= 0  HOG Feat cnt= (864,)\n",
      "Param Set( 72 ) result in acc of  0.920045045045  mean= -1.19268403406e-16  std= 1.0  CH Feat cnt= 0  SB Feat cnt= 0  HOG Feat cnt= (288,)\n",
      "Param Set( 73 ) result in acc of  0.932995495495  mean= -2.46093880453e-16  std= 1.0  CH Feat cnt= 0  SB Feat cnt= 0  HOG Feat cnt= (288,)\n",
      "Param Set( 74 ) result in acc of  0.938063063063  mean= 7.46149888622e-17  std= 1.0  CH Feat cnt= 0  SB Feat cnt= 0  HOG Feat cnt= (288,)\n",
      "Param Set( 75 ) result in acc of  0.954954954955  mean= -9.65267979735e-17  std= 1.0  CH Feat cnt= 0  SB Feat cnt= 0  HOG Feat cnt= (864,)\n",
      "Param Set( 76 ) result in acc of  0.91920045045  mean= -1.19268403406e-16  std= 1.0  CH Feat cnt= 0  SB Feat cnt= 0  HOG Feat cnt= (288,)\n",
      "Param Set( 77 ) result in acc of  0.932150900901  mean= -2.46093880453e-16  std= 1.0  CH Feat cnt= 0  SB Feat cnt= 0  HOG Feat cnt= (288,)\n",
      "Param Set( 78 ) result in acc of  0.938344594595  mean= 7.46149888622e-17  std= 1.0  CH Feat cnt= 0  SB Feat cnt= 0  HOG Feat cnt= (288,)\n",
      "Param Set( 79 ) result in acc of  0.95411036036  mean= -9.65267979735e-17  std= 1.0  CH Feat cnt= 0  SB Feat cnt= 0  HOG Feat cnt= (864,)\n",
      "Param Set( 80 ) result in acc of  0.929054054054  mean= -9.77111707747e-17  std= 1.0  CH Feat cnt= (144,)  SB Feat cnt= (3072,)  HOG Feat cnt= 0\n",
      "Param Set( 81 ) result in acc of  0.938063063063  mean= 7.03237785735e-16  std= 1.0  CH Feat cnt= (144,)  SB Feat cnt= (3072,)  HOG Feat cnt= 0\n",
      "Param Set( 82 ) result in acc of  0.968468468468  mean= 6.24506404929e-17  std= 1.0  CH Feat cnt= (144,)  SB Feat cnt= 0  HOG Feat cnt= (864,)\n",
      "Param Set( 83 ) result in acc of  0.967623873874  mean= -4.88440976497e-16  std= 1.0  CH Feat cnt= (144,)  SB Feat cnt= 0  HOG Feat cnt= (864,)\n",
      "Param Set( 84 ) result in acc of  0.95579954955  mean= -7.9838395878e-17  std= 1.0  CH Feat cnt= 0  SB Feat cnt= (3072,)  HOG Feat cnt= (864,)\n",
      "Param Set( 85 ) result in acc of  0.977195945946  mean= 3.20141749971e-16  std= 1.0  CH Feat cnt= 0  SB Feat cnt= (3072,)  HOG Feat cnt= (864,)\n"
     ]
    }
   ],
   "source": [
    "PTNormalize      = 0\n",
    "PTCHist_EN       = 1\n",
    "PTCHist_BCnt     = 2\n",
    "PTCHist_CSpace   = 3\n",
    "PTCHist_Ch_Idx   = 4\n",
    "PTSB_EN          = 5\n",
    "PTSB_Size        = 6\n",
    "PTSB_CSpace      = 7\n",
    "PTHOG_EN         = 8\n",
    "PTHOG_OrientCnt  = 9\n",
    "PTHOG_Px_Per_Cl  = 10\n",
    "PTHOG_Cl_Per_Blk = 11\n",
    "PTHOG_Blk_Nrmlz  = 12\n",
    "PTHOG_Trnsf_Sqrt = 13\n",
    "PTHOG_CSpace     = 14\n",
    "PTHOG_Ch_Indx    = 15\n",
    "\n",
    "def ParameterTuning():\n",
    "    global CHist_EN\n",
    "    global SB_EN\n",
    "    global HOG_EN\n",
    "    global Nrmlz\n",
    "    global histSize\n",
    "    global Hist_colorspace\n",
    "    global CS_Ch_Idx\n",
    "    global size\n",
    "    global SB_colorspace\n",
    "    global HOG_colorspace\n",
    "    global orient\n",
    "    global pix_per_cell\n",
    "    global cells_per_block\n",
    "    global blk_Norm\n",
    "    global TransformSqrt\n",
    "    global HOG_Ch_Idx\n",
    "    \n",
    "    \n",
    "    SearchTrials=[\n",
    "        [False,True ,[48],\"RGB\",\"All\",False,(0,0),\"RGB\",False,0,0,0,\"L2\",False,\"RGB\",\"All\"], # 0\n",
    "        [True ,True ,[48],\"RGB\",\"All\",False,(0,0),\"RGB\",False,0,0,0,\"L2\",False,\"RGB\",\"All\"], # 1\n",
    "        [False,True ,[16],\"RGB\",\"All\",False,(0,0),\"RGB\",False,0,0,0,\"L2\",False,\"RGB\",\"All\"], # 2\n",
    "        [False,True ,[80],\"RGB\",\"All\",False,(0,0),\"RGB\",False,0,0,0,\"L2\",False,\"RGB\",\"All\"], # 3\n",
    "        [False,True ,[48],\"RGB\",0,False,(0,0),\"RGB\",False,0,0,0,\"L2\",False,\"RGB\",\"All\"], # 4\n",
    "        [False,True ,[48],\"RGB\",1,False,(0,0),\"RGB\",False,0,0,0,\"L2\",False,\"RGB\",\"All\"], # 5\n",
    "        [False,True ,[48],\"RGB\",2,False,(0,0),\"RGB\",False,0,0,0,\"L2\",False,\"RGB\",\"All\"], # 6\n",
    "        [False,True ,[48],\"RGB\",\"All\",False,(0,0),\"RGB\",False,0,0,0,\"L2\",False,\"RGB\",\"All\"], # 7\n",
    "        [False,True ,[48],\"HSV\",0,False,(0,0),\"RGB\",False,0,0,0,\"L2\",False,\"RGB\",\"All\"], # 8\n",
    "        [False,True ,[48],\"HSV\",1,False,(0,0),\"RGB\",False,0,0,0,\"L2\",False,\"RGB\",\"All\"], # 9\n",
    "        [False,True ,[48],\"HSV\",2,False,(0,0),\"RGB\",False,0,0,0,\"L2\",False,\"RGB\",\"All\"], # 10\n",
    "        [False,True ,[48],\"HSV\",\"All\",False,(0,0),\"RGB\",False,0,0,0,\"L2\",False,\"RGB\",\"All\"], # 11\n",
    "        [False,True ,[48],\"HLS\",0,False,(0,0),\"RGB\",False,0,0,0,\"L2\",False,\"RGB\",\"All\"], # 12\n",
    "        [False,True ,[48],\"HLS\",1,False,(0,0),\"RGB\",False,0,0,0,\"L2\",False,\"RGB\",\"All\"], # 13\n",
    "        [False,True ,[48],\"HLS\",2,False,(0,0),\"RGB\",False,0,0,0,\"L2\",False,\"RGB\",\"All\"], # 14\n",
    "        [False,True ,[48],\"HLS\",\"All\",False,(0,0),\"RGB\",False,0,0,0,\"L2\",False,\"RGB\",\"All\"], # 15\n",
    "        [False,True ,[48],\"LAB\",0,False,(0,0),\"RGB\",False,0,0,0,\"L2\",False,\"RGB\",\"All\"], # 16\n",
    "        [False,True ,[48],\"LAB\",1,False,(0,0),\"RGB\",False,0,0,0,\"L2\",False,\"RGB\",\"All\"], # 17\n",
    "        [False,True ,[48],\"LAB\",2,False,(0,0),\"RGB\",False,0,0,0,\"L2\",False,\"RGB\",\"All\"], # 18\n",
    "        [False,True ,[48],\"LAB\",\"All\",False,(0,0),\"RGB\",False,0,0,0,\"L2\",False,\"RGB\",\"All\"], # 19\n",
    "        [False,True ,[48],\"YUV\",0,False,(0,0),\"RGB\",False,0,0,0,\"L2\",False,\"RGB\",\"All\"], # 20\n",
    "        [False,True ,[48],\"YUV\",1,False,(0,0),\"RGB\",False,0,0,0,\"L2\",False,\"RGB\",\"All\"], # 21\n",
    "        [False,True ,[48],\"YUV\",2,False,(0,0),\"RGB\",False,0,0,0,\"L2\",False,\"RGB\",\"All\"], # 22\n",
    "        [False,True ,[48],\"YUV\",\"All\",False,(0,0),\"RGB\",False,0,0,0,\"L2\",False,\"RGB\",\"All\"], # 23\n",
    "        [False,True ,[48],\"LUV\",0,False,(0,0),\"RGB\",False,0,0,0,\"L2\",False,\"RGB\",\"All\"], # 24\n",
    "        [False,True ,[48],\"LUV\",1,False,(0,0),\"RGB\",False,0,0,0,\"L2\",False,\"RGB\",\"All\"], # 25\n",
    "        [False,True ,[48],\"LUV\",2,False,(0,0),\"RGB\",False,0,0,0,\"L2\",False,\"RGB\",\"All\"], # 26\n",
    "        [False,True ,[48],\"LUV\",\"All\",False,(0,0),\"RGB\",False,0,0,0,\"L2\",False,\"RGB\",\"All\"], # 27\n",
    "        [False,True ,[48],\"YCrCb\",0,False,(0,0),\"RGB\",False,0,0,0,\"L2\",False,\"RGB\",\"All\"], # 28\n",
    "        [False,True ,[48],\"YCrCb\",1,False,(0,0),\"RGB\",False,0,0,0,\"L2\",False,\"RGB\",\"All\"], # 29\n",
    "        [False,True ,[48],\"YCrCb\",2,False,(0,0),\"RGB\",False,0,0,0,\"L2\",False,\"RGB\",\"All\"], # 30\n",
    "        [False,True ,[48],\"YCrCb\",\"All\",False,(0,0),\"RGB\",False,0,0,0,\"L2\",False,\"RGB\",\"All\"], # 31\n",
    "        [False,False,[0],\"RGB\",\"All\",True ,(32,32),\"RGB\",False,0,0,0,\"L2\",False,\"RGB\",\"All\"], # 32\n",
    "        [True ,False,[0],\"RGB\",\"All\",True ,(8,8),\"RGB\",False,0,0,0,\"L2\",False,\"RGB\",\"All\"], # 33\n",
    "        [False,False,[0],\"RGB\",\"All\",True ,(64,64),\"RGB\",False,0,0,0,\"L2\",False,\"RGB\",\"All\"], # 34\n",
    "        [False,False,[0],\"RGB\",\"All\",True ,(32,32),\"HSV\",False,0,0,0,\"L2\",False,\"RGB\",\"All\"], # 35\n",
    "        [False,False,[0],\"RGB\",\"All\",True ,(32,32),\"HLS\",False,0,0,0,\"L2\",False,\"RGB\",\"All\"], # 36\n",
    "        [False,False,[0],\"RGB\",\"All\",True ,(32,32),\"LAB\",False,0,0,0,\"L2\",False,\"RGB\",\"All\"], # 37\n",
    "        [False,False,[0],\"RGB\",\"All\",True ,(32,32),\"YUV\",False,0,0,0,\"L2\",False,\"RGB\",\"All\"], # 38\n",
    "        [False,False,[0],\"RGB\",\"All\",True ,(32,32),\"LUV\",False,0,0,0,\"L2\",False,\"RGB\",\"All\"], # 39\n",
    "        [False,False,[0],\"RGB\",\"All\",True ,(32,32),\"YCrCb\",False,0,0,0,\"L2\",False,\"RGB\",\"All\"], # 40\n",
    "        [False,False,[0],\"RGB\",\"All\",False,(0,0),\"RGB\",True ,8,16,2,\"L2-Hys\",False,\"RGB\",\"All\"], # 41\n",
    "        [True ,False,[0],\"RGB\",\"All\",False,(0,0),\"RGB\",True ,8,16,2,\"L2-Hys\",False,\"RGB\",\"All\"], # 42\n",
    "        [False,False,[0],\"RGB\",\"All\",False,(0,0),\"RGB\",True ,4,16,2,\"L2-Hys\",False,\"RGB\",\"All\"], # 43\n",
    "        [False,False,[0],\"RGB\",\"All\",False,(0,0),\"RGB\",True ,16,16,2,\"L2-Hys\",False,\"RGB\",\"All\"], # 44\n",
    "        #45 creats 21600 feature per image so it takes a very long time to check --> Ignored\n",
    "        [False,False,[0],\"RGB\",\"All\",False,(0,0),\"RGB\",True ,8,32,2,\"L2-Hys\",False,\"RGB\",\"All\"], # 46\n",
    "        [False,False,[0],\"RGB\",\"All\",False,(0,0),\"RGB\",True ,8,16,1,\"L2-Hys\",False,\"RGB\",\"All\"], # 47\n",
    "        [False,False,[0],\"RGB\",\"All\",False,(0,0),\"RGB\",True ,8,16,4,\"L2-Hys\",False,\"RGB\",\"All\"], # 48\n",
    "        [False,False,[0],\"RGB\",\"All\",False,(0,0),\"RGB\",True ,8,16,2,\"L1\",False,\"RGB\",\"All\"], # 49\n",
    "        [False,False,[0],\"RGB\",\"All\",False,(0,0),\"RGB\",True ,8,16,2,\"L1-sqrt\",False,\"RGB\",\"All\"], # 50\n",
    "        [False,False,[0],\"RGB\",\"All\",False,(0,0),\"RGB\",True ,8,16,2,\"L2\",False,\"RGB\",\"All\"], # 51\n",
    "        [False,False,[0],\"RGB\",\"All\",False,(0,0),\"RGB\",True ,8,16,2,\"L2-Hys\",True ,\"RGB\",\"All\"], # 52\n",
    "        [False,False,[0],\"RGB\",\"All\",False,(0,0),\"RGB\",True ,8,16,2,\"L2-Hys\",False,\"RGB\",0], # 53\n",
    "        [False,False,[0],\"RGB\",\"All\",False,(0,0),\"RGB\",True ,8,16,2,\"L2-Hys\",False,\"RGB\",1], # 54\n",
    "        [False,False,[0],\"RGB\",\"All\",False,(0,0),\"RGB\",True ,8,16,2,\"L2-Hys\",False,\"RGB\",2], # 55\n",
    "        [False,False,[0],\"RGB\",\"All\",False,(0,0),\"RGB\",True ,8,16,2,\"L2-Hys\",False,\"RGB\",\"All\"], # 56\n",
    "        [False,False,[0],\"RGB\",\"All\",False,(0,0),\"RGB\",True ,8,16,2,\"L2-Hys\",False,\"HSV\",0], # 57\n",
    "        [False,False,[0],\"RGB\",\"All\",False,(0,0),\"RGB\",True ,8,16,2,\"L2-Hys\",False,\"HSV\",1], # 58\n",
    "        [False,False,[0],\"RGB\",\"All\",False,(0,0),\"RGB\",True ,8,16,2,\"L2-Hys\",False,\"HSV\",2], # 59\n",
    "        [False,False,[0],\"RGB\",\"All\",False,(0,0),\"RGB\",True ,8,16,2,\"L2-Hys\",False,\"HSV\",\"All\"], # 60\n",
    "        [False,False,[0],\"RGB\",\"All\",False,(0,0),\"RGB\",True ,8,16,2,\"L2-Hys\",False,\"HLS\",0], # 61\n",
    "        [False,False,[0],\"RGB\",\"All\",False,(0,0),\"RGB\",True ,8,16,2,\"L2-Hys\",False,\"HLS\",1], # 62\n",
    "        [False,False,[0],\"RGB\",\"All\",False,(0,0),\"RGB\",True ,8,16,2,\"L2-Hys\",False,\"HLS\",2], # 63\n",
    "        [False,False,[0],\"RGB\",\"All\",False,(0,0),\"RGB\",True ,8,16,2,\"L2-Hys\",False,\"HLS\",\"All\"], # 64\n",
    "        [False,False,[0],\"RGB\",\"All\",False,(0,0),\"RGB\",True ,8,16,2,\"L2-Hys\",False,\"LAB\",0], # 65\n",
    "        [False,False,[0],\"RGB\",\"All\",False,(0,0),\"RGB\",True ,8,16,2,\"L2-Hys\",False,\"LAB\",1], # 66\n",
    "        [False,False,[0],\"RGB\",\"All\",False,(0,0),\"RGB\",True ,8,16,2,\"L2-Hys\",False,\"LAB\",2], # 67\n",
    "        [False,False,[0],\"RGB\",\"All\",False,(0,0),\"RGB\",True ,8,16,2,\"L2-Hys\",False,\"LAB\",\"All\"], # 68\n",
    "        [False,False,[0],\"RGB\",\"All\",False,(0,0),\"RGB\",True ,8,16,2,\"L2-Hys\",False,\"YUV\",0], # 69\n",
    "        [False,False,[0],\"RGB\",\"All\",False,(0,0),\"RGB\",True ,8,16,2,\"L2-Hys\",False,\"YUV\",1], # 70\n",
    "        [False,False,[0],\"RGB\",\"All\",False,(0,0),\"RGB\",True ,8,16,2,\"L2-Hys\",False,\"YUV\",2], # 71\n",
    "        [False,False,[0],\"RGB\",\"All\",False,(0,0),\"RGB\",True ,8,16,2,\"L2-Hys\",False,\"YUV\",\"All\"], # 72\n",
    "        [False,False,[0],\"RGB\",\"All\",False,(0,0),\"RGB\",True ,8,16,2,\"L2-Hys\",False,\"LUV\",0], # 73\n",
    "        [False,False,[0],\"RGB\",\"All\",False,(0,0),\"RGB\",True ,8,16,2,\"L2-Hys\",False,\"LUV\",1], # 74\n",
    "        [False,False,[0],\"RGB\",\"All\",False,(0,0),\"RGB\",True ,8,16,2,\"L2-Hys\",False,\"LUV\",2], # 75\n",
    "        [False,False,[0],\"RGB\",\"All\",False,(0,0),\"RGB\",True ,8,16,2,\"L2-Hys\",False,\"LUV\",\"All\"], # 76\n",
    "        [False,False,[0],\"RGB\",\"All\",False,(0,0),\"RGB\",True ,8,16,2,\"L2-Hys\",False,\"YCrCb\",0], # 77\n",
    "        [False,False,[0],\"RGB\",\"All\",False,(0,0),\"RGB\",True ,8,16,2,\"L2-Hys\",False,\"YCrCb\",1], # 78\n",
    "        [False,False,[0],\"RGB\",\"All\",False,(0,0),\"RGB\",True ,8,16,2,\"L2-Hys\",False,\"YCrCb\",2], # 79\n",
    "        [False,False,[0],\"RGB\",\"All\",False,(0,0),\"RGB\",True ,8,16,2,\"L2-Hys\",False,\"YCrCb\",\"All\"], # 80\n",
    "        [False,True ,[48],\"RGB\",\"All\",True ,(32,32),\"RGB\",False,0,0,0,\"L2\",False,\"RGB\",\"All\"], # 81\n",
    "        [True ,True ,[48],\"RGB\",\"All\",True ,(32,32),\"RGB\",False,0,0,0,\"L2\",False,\"RGB\",\"All\"], # 82\n",
    "        [False,True ,[48],\"RGB\",\"All\",False,(0,0),\"RGB\",True ,8,16,2,\"L2-Hys\",False,\"RGB\",\"All\"], # 83\n",
    "        [True ,True ,[48],\"RGB\",\"All\",False,(0,0),\"RGB\",True ,8,16,2,\"L2-Hys\",False,\"RGB\",\"All\"], # 84\n",
    "        [False,False,[0],\"RGB\",\"All\",True ,(32,32),\"RGB\",True ,8,16,2,\"L2-Hys\",False,\"RGB\",\"All\"], # 85\n",
    "        [True ,False,[0],\"RGB\",\"All\",True ,(32,32),\"RGB\",True ,8,16,2,\"L2-Hys\",False,\"RGB\",\"All\"], # 86\n",
    "        [False,True ,[48],\"RGB\",\"All\",True ,(32,32),\"RGB\",True ,8,16,2,\"L2-Hys\",False,\"RGB\",\"All\"], # 87\n",
    "        [True ,True ,[48],\"RGB\",\"All\",True ,(32,32),\"RGB\",True ,8,16,2,\"L2-Hys\",False,\"RGB\",\"All\"] # 88\n",
    "    ]\n",
    "    \n",
    "    for idx in range(0, len(SearchTrials)):\n",
    "        CHist_EN  = SearchTrials[idx][PTCHist_EN]\n",
    "        SB_EN     = SearchTrials[idx][PTSB_EN]\n",
    "        HOG_EN    = SearchTrials[idx][PTHOG_EN]\n",
    "        Nrmlz     = SearchTrials[idx][PTNormalize]\n",
    "        histSize  = SearchTrials[idx][PTCHist_BCnt]\n",
    "        Hist_colorspace = SearchTrials[idx][PTCHist_CSpace]\n",
    "        CS_Ch_Idx = SearchTrials[idx][PTCHist_Ch_Idx]\n",
    "        size      = SearchTrials[idx][PTSB_Size]\n",
    "        SB_colorspace   = SearchTrials[idx][PTSB_CSpace]\n",
    "        HOG_colorspace  = SearchTrials[idx][PTHOG_CSpace]\n",
    "        orient    = SearchTrials[idx][PTHOG_OrientCnt]\n",
    "        pix_per_cell    = SearchTrials[idx][PTHOG_Px_Per_Cl]\n",
    "        cells_per_block = SearchTrials[idx][PTHOG_Cl_Per_Blk]\n",
    "        blk_Norm  = SearchTrials[idx][PTHOG_Blk_Nrmlz]\n",
    "        TransformSqrt   = SearchTrials[idx][PTHOG_Trnsf_Sqrt]\n",
    "        HOG_Ch_Idx= SearchTrials[idx][PTHOG_Ch_Indx]\n",
    "    \n",
    "        #Test = extractFeatures(HOGCarImage[0])\n",
    "    \n",
    "        lCar_features = []\n",
    "        lNonCar_features = []\n",
    "    \n",
    "        for image in CarImageSet:\n",
    "            COut = extractFeatures(image[imgPxlVal], ReturnSizes=True)\n",
    "            lCar_features.append(COut[3])\n",
    "    \n",
    "        for image in NonCarImageSet:\n",
    "            NCOut = extractFeatures(image[imgPxlVal], ReturnSizes=True)\n",
    "            lNonCar_features.append(NCOut[3])\n",
    "    \n",
    "        lFeatureSet = np.vstack((lCar_features, lNonCar_features)).astype(np.float64)\n",
    "        lLbaelSet = np.hstack((np.ones(len(lCar_features)), np.zeros(len(lNonCar_features))))\n",
    "    \n",
    "        lFeature_scaler = StandardScaler().fit(lFeatureSet)\n",
    "        lScaled_FeatureSet = lFeature_scaler.transform(lFeatureSet)\n",
    "    \n",
    "        lrand_state = 20\n",
    "        #lrand_state = np.random.randint(0, 100)\n",
    "        lFeature_train, lFeature_test, lLabel_train, lLabel_test = train_test_split(lScaled_FeatureSet, lLbaelSet, test_size=0.2, random_state=lrand_state)\n",
    "        \n",
    "        clf = TrainLinearSVCModel(lFeature_train, lLabel_train)\n",
    "    \n",
    "        acc = clf.score(lFeature_test, lLabel_test)\n",
    "    \n",
    "        print(\"Param Set(\",idx,\") result in acc of \",acc,\" mean=\",lScaled_FeatureSet.mean(),\" std=\",lScaled_FeatureSet.std(),\" CH Feat cnt=\",COut[0],\" SB Feat cnt=\",COut[1],\" HOG Feat cnt=\",COut[2])\n",
    "    \n",
    "ParameterTuning()"
   ]
  },
  {
   "cell_type": "code",
   "execution_count": null,
   "metadata": {
    "collapsed": true
   },
   "outputs": [],
   "source": []
  }
 ],
 "metadata": {
  "kernelspec": {
   "display_name": "Python 3",
   "language": "python",
   "name": "python3"
  },
  "language_info": {
   "codemirror_mode": {
    "name": "ipython",
    "version": 3
   },
   "file_extension": ".py",
   "mimetype": "text/x-python",
   "name": "python",
   "nbconvert_exporter": "python",
   "pygments_lexer": "ipython3",
   "version": "3.6.1"
  }
 },
 "nbformat": 4,
 "nbformat_minor": 2
}
